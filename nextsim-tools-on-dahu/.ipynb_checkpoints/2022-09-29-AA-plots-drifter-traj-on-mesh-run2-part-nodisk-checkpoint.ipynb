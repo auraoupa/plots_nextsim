{
 "cells": [
  {
   "cell_type": "code",
   "execution_count": 1,
   "id": "24efbfa9",
   "metadata": {},
   "outputs": [],
   "source": [
    "experiment='run_330d_partnodisk'"
   ]
  },
  {
   "cell_type": "code",
   "execution_count": 2,
   "id": "830877e9",
   "metadata": {},
   "outputs": [],
   "source": [
    "import matplotlib.pyplot as plt\n",
    "import numpy as np\n",
    "from matplotlib.tri import Triangulation\n",
    "from matplotlib import cm, patches, collections\n",
    "\n",
    "from pynextsim import NextsimBin\n",
    "from pynextsim.nextsim_mesh import NextsimMesh\n",
    "\n",
    "from pynextsim.gmshlib import GmshMesh\n",
    "\n",
    "from pynextsim.drifter_time_series import *\n",
    "import pynextsim.lib as nsl\n",
    "\n",
    "%matplotlib notebook"
   ]
  },
  {
   "cell_type": "code",
   "execution_count": 3,
   "id": "1424b6af",
   "metadata": {},
   "outputs": [
    {
     "ename": "ValueError",
     "evalue": "Cannot open /data/experiments/run_330d_partnodisk/mesh_final.bin or /data/experiments/run_330d_partnodisk/mesh_final.bin.bin",
     "output_type": "error",
     "traceback": [
      "\u001b[0;31m---------------------------------------------------------------------------\u001b[0m",
      "\u001b[0;31mValueError\u001b[0m                                Traceback (most recent call last)",
      "\u001b[0;32m/tmp/ipykernel_32365/4047771471.py\u001b[0m in \u001b[0;36m<module>\u001b[0;34m\u001b[0m\n\u001b[1;32m      1\u001b[0m \u001b[0mmesh_file\u001b[0m\u001b[0;34m=\u001b[0m\u001b[0;34m'/data/experiments/'\u001b[0m\u001b[0;34m+\u001b[0m\u001b[0mexperiment\u001b[0m\u001b[0;34m+\u001b[0m\u001b[0;34m'/mesh_final.bin'\u001b[0m\u001b[0;34m\u001b[0m\u001b[0;34m\u001b[0m\u001b[0m\n\u001b[0;32m----> 2\u001b[0;31m \u001b[0mmesh\u001b[0m \u001b[0;34m=\u001b[0m \u001b[0mNextsimMesh\u001b[0m\u001b[0;34m(\u001b[0m\u001b[0mmesh_file\u001b[0m\u001b[0;34m)\u001b[0m\u001b[0;34m\u001b[0m\u001b[0;34m\u001b[0m\u001b[0m\n\u001b[0m",
      "\u001b[0;32m/nextsim-tools/python/pynextsim/nextsim_mesh.py\u001b[0m in \u001b[0;36m__init__\u001b[0;34m(self, mesh_file, gmsh_obj, gmsh_file, mppfile, add_gmsh, **kwargs)\u001b[0m\n\u001b[1;32m     39\u001b[0m \u001b[0;34m\u001b[0m\u001b[0m\n\u001b[1;32m     40\u001b[0m         \"\"\"\n\u001b[0;32m---> 41\u001b[0;31m         \u001b[0msuper\u001b[0m\u001b[0;34m(\u001b[0m\u001b[0mNextsimMesh\u001b[0m\u001b[0;34m,\u001b[0m \u001b[0mself\u001b[0m\u001b[0;34m)\u001b[0m\u001b[0;34m.\u001b[0m\u001b[0m__init__\u001b[0m\u001b[0;34m(\u001b[0m\u001b[0mmesh_file\u001b[0m\u001b[0;34m,\u001b[0m \u001b[0;34m**\u001b[0m\u001b[0mkwargs\u001b[0m\u001b[0;34m)\u001b[0m\u001b[0;34m\u001b[0m\u001b[0;34m\u001b[0m\u001b[0m\n\u001b[0m\u001b[1;32m     42\u001b[0m \u001b[0;34m\u001b[0m\u001b[0m\n\u001b[1;32m     43\u001b[0m         \u001b[0mself\u001b[0m\u001b[0;34m.\u001b[0m\u001b[0mnum_nodes\u001b[0m       \u001b[0;34m=\u001b[0m \u001b[0mself\u001b[0m\u001b[0;34m.\u001b[0m\u001b[0mvariable_lengths\u001b[0m\u001b[0;34m[\u001b[0m\u001b[0;34m'Nodes_x'\u001b[0m\u001b[0;34m]\u001b[0m\u001b[0;34m\u001b[0m\u001b[0;34m\u001b[0m\u001b[0m\n",
      "\u001b[0;32m/nextsim-tools/python/pynextsim/nextsim_bin_base.py\u001b[0m in \u001b[0;36m__init__\u001b[0;34m(self, input_file, options, logfile, **kwargs)\u001b[0m\n\u001b[1;32m     37\u001b[0m             \u001b[0minfile\u001b[0m \u001b[0;34m+=\u001b[0m \u001b[0;34m'.bin'\u001b[0m\u001b[0;34m\u001b[0m\u001b[0;34m\u001b[0m\u001b[0m\n\u001b[1;32m     38\u001b[0m             \u001b[0;32mif\u001b[0m \u001b[0;32mnot\u001b[0m \u001b[0mos\u001b[0m\u001b[0;34m.\u001b[0m\u001b[0mpath\u001b[0m\u001b[0;34m.\u001b[0m\u001b[0mexists\u001b[0m\u001b[0;34m(\u001b[0m\u001b[0minfile\u001b[0m\u001b[0;34m)\u001b[0m\u001b[0;34m:\u001b[0m\u001b[0;34m\u001b[0m\u001b[0;34m\u001b[0m\u001b[0m\n\u001b[0;32m---> 39\u001b[0;31m                 \u001b[0;32mraise\u001b[0m \u001b[0mValueError\u001b[0m\u001b[0;34m(\u001b[0m\u001b[0;34m'Cannot open %s or %s'\u001b[0m \u001b[0;34m%\u001b[0m\u001b[0;34m(\u001b[0m\u001b[0minput_file\u001b[0m\u001b[0;34m,\u001b[0m \u001b[0minfile\u001b[0m\u001b[0;34m)\u001b[0m\u001b[0;34m)\u001b[0m\u001b[0;34m\u001b[0m\u001b[0;34m\u001b[0m\u001b[0m\n\u001b[0m\u001b[1;32m     40\u001b[0m \u001b[0;34m\u001b[0m\u001b[0m\n\u001b[1;32m     41\u001b[0m         \u001b[0minfile0\u001b[0m \u001b[0;34m=\u001b[0m \u001b[0mos\u001b[0m\u001b[0;34m.\u001b[0m\u001b[0mpath\u001b[0m\u001b[0;34m.\u001b[0m\u001b[0msplitext\u001b[0m\u001b[0;34m(\u001b[0m\u001b[0mos\u001b[0m\u001b[0;34m.\u001b[0m\u001b[0mpath\u001b[0m\u001b[0;34m.\u001b[0m\u001b[0mabspath\u001b[0m\u001b[0;34m(\u001b[0m\u001b[0minfile\u001b[0m\u001b[0;34m)\u001b[0m\u001b[0;34m)\u001b[0m\u001b[0;34m[\u001b[0m\u001b[0;36m0\u001b[0m\u001b[0;34m]\u001b[0m\u001b[0;34m\u001b[0m\u001b[0;34m\u001b[0m\u001b[0m\n",
      "\u001b[0;31mValueError\u001b[0m: Cannot open /data/experiments/run_330d_partnodisk/mesh_final.bin or /data/experiments/run_330d_partnodisk/mesh_final.bin.bin"
     ]
    }
   ],
   "source": [
    "mesh_file='/data/experiments/'+experiment+'/mesh_final.bin'\n",
    "mesh = NextsimMesh(mesh_file)"
   ]
  },
  {
   "cell_type": "code",
   "execution_count": null,
   "id": "d23f9e45",
   "metadata": {},
   "outputs": [],
   "source": [
    "field_file='/data/experiments/'+experiment+'/field_final.bin'\n",
    "field = NextsimBin(field_file)"
   ]
  },
  {
   "cell_type": "code",
   "execution_count": null,
   "id": "1a4b108c",
   "metadata": {},
   "outputs": [],
   "source": [
    "drifters_file='/data/experiments/'+experiment+'/test_drifters.nc'"
   ]
  },
  {
   "cell_type": "code",
   "execution_count": null,
   "id": "3da600c5",
   "metadata": {},
   "outputs": [],
   "source": [
    "drft_datetimes, drft_indices, drft_data = read_nextsim_drifter_netcdf_file(drifters_file)"
   ]
  },
  {
   "cell_type": "code",
   "execution_count": null,
   "id": "f6c041e3",
   "metadata": {},
   "outputs": [],
   "source": [
    "drft_c = DrifterTimeSeries(datetimes=drft_datetimes, indices=drft_indices, data=drft_data)"
   ]
  },
  {
   "cell_type": "code",
   "execution_count": null,
   "id": "f60a9855",
   "metadata": {},
   "outputs": [],
   "source": [
    "Ntraj = drft_c.data['Lon'].shape[0]\n",
    "X, Y = drft_c.get_drifter_xy(mesh.mapping)\n",
    "xlist, ilist, ydict = nsl.separate_vector_finite_segments(X, other_vecs={0: Y})"
   ]
  },
  {
   "cell_type": "code",
   "execution_count": null,
   "id": "dccdc9fb",
   "metadata": {
    "scrolled": false
   },
   "outputs": [],
   "source": [
    "ax = plt.figure(figsize=(10, 10)).add_subplot(111)\n",
    "fig = ax.figure\n",
    "\n",
    "sfac=1\n",
    "cmap='ice'\n",
    "\n",
    "#mesh parameters\n",
    "nodes_x, nodes_y = mesh.get_nodes_xy()\n",
    "indices = mesh.get_indices(\"triangles\", numbering='gmsh', asvector=False)\n",
    "Nn = mesh.num_nodes\n",
    "Ne = mesh.num_triangles\n",
    "\n",
    "patch_list  = []\n",
    "\n",
    "for inds in indices:\n",
    "    ccl   = []\n",
    "    for n in inds:\n",
    "        ccl.append((sfac*nodes_x[n],sfac*nodes_y[n]))\n",
    "    ccl.append(ccl[0]) # close the contour\n",
    "    patch_list.append(patches.Polygon(ccl,True,linewidth=0))\n",
    "\n",
    "pc = collections.PatchCollection(patch_list, cmap=cmap, alpha=1)\n",
    "\n",
    "#data to fill\n",
    "thick = field.get_var('Thickness')\n",
    "data = thick\n",
    "\n",
    "pc.set_array(data)\n",
    "pc.set_edgecolor('k')\n",
    "\n",
    "ax.add_collection(pc)\n",
    "\n",
    "#drifters\n",
    "Ntraj = drft_c.data['Lon'].shape[0]\n",
    "X, Y = drft_c.get_drifter_xy(mesh.mapping)\n",
    "\n",
    "for x, y in zip(X, Y):\n",
    "    drft_c.plot_trajectory_segments(x, y, ax)\n",
    "\n",
    "#ax.set_xlim([-1100,-700])\n",
    "#ax.set_ylim([-700,-100])\n",
    "#ax.set_aspect('equal')\n",
    "\n",
    "ax.set_xlabel('x, km')\n",
    "ax.set_ylabel('y, km')\n",
    "\n",
    "cbar  = fig.colorbar(pc, ax=ax, orientation=\"vertical\", pad=0.01, shrink=0.5)\n",
    "plt.savefig('/plots/map_drifters_on_icocn_mesh'+experiment+'.png')"
   ]
  },
  {
   "cell_type": "code",
   "execution_count": null,
   "id": "1491b205",
   "metadata": {},
   "outputs": [],
   "source": []
  }
 ],
 "metadata": {
  "kernelspec": {
   "display_name": "Python 3 (ipykernel)",
   "language": "python",
   "name": "python3"
  },
  "language_info": {
   "codemirror_mode": {
    "name": "ipython",
    "version": 3
   },
   "file_extension": ".py",
   "mimetype": "text/x-python",
   "name": "python",
   "nbconvert_exporter": "python",
   "pygments_lexer": "ipython3",
   "version": "3.9.7"
  }
 },
 "nbformat": 4,
 "nbformat_minor": 5
}
