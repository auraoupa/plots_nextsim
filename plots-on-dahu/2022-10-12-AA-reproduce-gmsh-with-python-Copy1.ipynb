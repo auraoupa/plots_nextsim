{
 "cells": [
  {
   "cell_type": "markdown",
   "id": "acfcc092",
   "metadata": {},
   "source": [
    "![pic](../gmsh.png)"
   ]
  },
  {
   "cell_type": "code",
   "execution_count": 1,
   "id": "18bf8218",
   "metadata": {},
   "outputs": [],
   "source": [
    "import gmsh\n",
    "import numpy as np\n",
    "import matplotlib\n",
    "from matplotlib import pyplot as plt\n",
    "from matplotlib.tri import Triangulation\n",
    "from matplotlib import cm, patches, collections\n"
   ]
  },
  {
   "cell_type": "code",
   "execution_count": 2,
   "id": "584bc6cf",
   "metadata": {},
   "outputs": [],
   "source": [
    "mesh_file='/bettik/alberta/small-arctic-10km-sidfex/experiments/run_330d_partnodisk/par32small_arctic_10km.msh'\n"
   ]
  },
  {
   "cell_type": "code",
   "execution_count": 3,
   "id": "54f4d8ee",
   "metadata": {},
   "outputs": [],
   "source": [
    "gmsh.initialize()"
   ]
  },
  {
   "cell_type": "code",
   "execution_count": 4,
   "id": "d11bbe0d",
   "metadata": {},
   "outputs": [
    {
     "name": "stdout",
     "output_type": "stream",
     "text": [
      "Info    : Reading '/bettik/alberta/small-arctic-10km-sidfex/experiments/run_330d_partnodisk/par32small_arctic_10km.msh'...\n",
      "Info    : 65350 nodes\n",
      "Info    : 128912 elements\n",
      "Info    : Converting old partitioning...                                   \n",
      "Info    : Creating partition topology...\n",
      "Info    :  - Creating partition curves\n",
      "Info    :  - Creating partition points\n",
      "Info    : Done creating partition topology\n",
      "Info    : Done reading '/bettik/alberta/small-arctic-10km-sidfex/experiments/run_330d_partnodisk/par32small_arctic_10km.msh'\n"
     ]
    }
   ],
   "source": [
    "gmsh.open(mesh_file)"
   ]
  },
  {
   "cell_type": "code",
   "execution_count": 5,
   "id": "41161162",
   "metadata": {},
   "outputs": [
    {
     "data": {
      "text/plain": [
       "32"
      ]
     },
     "execution_count": 5,
     "metadata": {},
     "output_type": "execute_result"
    }
   ],
   "source": [
    "gmsh.model.getNumberOfPartitions()"
   ]
  },
  {
   "cell_type": "code",
   "execution_count": 6,
   "id": "0a1d32ff",
   "metadata": {},
   "outputs": [
    {
     "name": "stdout",
     "output_type": "stream",
     "text": [
      "(2, array([56794, 12347, 33329], dtype=uint64), 2, 22)\n"
     ]
    }
   ],
   "source": [
    "el=gmsh.model.mesh.get_element(68973)\n",
    "print(el)\n",
    "eltyp,nodetags,dim,tag = gmsh.model.mesh.get_element(68973)"
   ]
  },
  {
   "cell_type": "code",
   "execution_count": 7,
   "id": "ce8b537c",
   "metadata": {},
   "outputs": [
    {
     "name": "stdout",
     "output_type": "stream",
     "text": [
      "[18]\n"
     ]
    }
   ],
   "source": [
    "part = gmsh.model.getPartitions(dim, tag)\n",
    "print(part)"
   ]
  },
  {
   "cell_type": "code",
   "execution_count": 8,
   "id": "6fcaf978",
   "metadata": {},
   "outputs": [
    {
     "name": "stdout",
     "output_type": "stream",
     "text": [
      "[56794 12347 33329]\n"
     ]
    }
   ],
   "source": [
    "print(nodetags)"
   ]
  },
  {
   "cell_type": "code",
   "execution_count": 9,
   "id": "79f214d9",
   "metadata": {},
   "outputs": [
    {
     "name": "stdout",
     "output_type": "stream",
     "text": [
      "(array([114069.20411975, 620149.12953353,      0.        ]), array([], dtype=float64), 2, 22)\n",
      "[114069.20411975 620149.12953353      0.        ]\n"
     ]
    }
   ],
   "source": [
    "n1=gmsh.model.mesh.get_node(56794)\n",
    "print(n1)\n",
    "n1_coord=n1[0]\n",
    "print(n1_coord)\n",
    "n1_x=n1_coord[0]\n",
    "n1_y=n1_coord[1]"
   ]
  },
  {
   "cell_type": "code",
   "execution_count": 10,
   "id": "b7bbb39e",
   "metadata": {},
   "outputs": [
    {
     "name": "stdout",
     "output_type": "stream",
     "text": [
      "(array([108467.40057958, 628976.97994148,      0.        ]), array([], dtype=float64), 2, 22)\n"
     ]
    }
   ],
   "source": [
    "n2=gmsh.model.mesh.get_node(12347)\n",
    "print(n2)\n",
    "n2_coord=n2[0]\n",
    "n2_x=n2_coord[0]\n",
    "n2_y=n2_coord[1]"
   ]
  },
  {
   "cell_type": "code",
   "execution_count": 11,
   "id": "d721bb50",
   "metadata": {},
   "outputs": [
    {
     "name": "stdout",
     "output_type": "stream",
     "text": [
      "(array([102968.41610799, 621159.94815675,      0.        ]), array([], dtype=float64), 2, 22)\n"
     ]
    }
   ],
   "source": [
    "n3=gmsh.model.mesh.get_node(33329)\n",
    "print(n3)\n",
    "n3_coord=n3[0]\n",
    "n3_x=n3_coord[0]\n",
    "n3_y=n3_coord[1]"
   ]
  },
  {
   "cell_type": "code",
   "execution_count": 12,
   "id": "c9d5c62d",
   "metadata": {},
   "outputs": [
    {
     "name": "stdout",
     "output_type": "stream",
     "text": [
      "102968.41610799404\n"
     ]
    }
   ],
   "source": [
    "print(np.min([n1_x,n2_x,n3_x]))"
   ]
  },
  {
   "cell_type": "code",
   "execution_count": 13,
   "id": "a44179b7",
   "metadata": {},
   "outputs": [
    {
     "data": {
      "text/plain": [
       "<matplotlib.collections.PatchCollection at 0x7f854d5608b0>"
      ]
     },
     "execution_count": 13,
     "metadata": {},
     "output_type": "execute_result"
    },
    {
     "data": {
      "image/png": "[encoded data removed]",
      "text/plain": [
       "<Figure size 432x288 with 1 Axes>"
      ]
     },
     "metadata": {
      "needs_background": "light"
     },
     "output_type": "display_data"
    }
   ],
   "source": [
    "ax = plt.figure().add_subplot(111)\n",
    "fig = ax.figure\n",
    "\n",
    "ax.set_xlim([np.min([n1_x,n2_x,n3_x]),np.max([n1_x,n2_x,n3_x])])\n",
    "ax.set_ylim([np.min([n1_y,n2_y,n3_y]),np.max([n1_y,n2_y,n3_y])])\n",
    "\n"
   ]
  },
  {
   "cell_type": "code",
   "execution_count": 15,
   "id": "0d309f54",
   "metadata": {
    "scrolled": true
   },
   "outputs": [
    {
     "name": "stdout",
     "output_type": "stream",
     "text": [
      "126664\n"
     ]
    }
   ],
   "source": [
    "print(len(eltstag[0]))\n"
   ]
  },
  {
   "cell_type": "code",
   "execution_count": null,
   "id": "b15518ae",
   "metadata": {},
   "outputs": [],
   "source": [
    "ax = plt.figure().add_subplot(111)\n",
    "fig = ax.figure\n",
    "\n",
    "eltstyp,eltstag,eltsnodetags = gmsh.model.mesh.getElements(dim=2, tag=-1)\n",
    "\n",
    "#Set up the triangles\n",
    "patch_list  = []\n",
    "\n",
    "for t in np.arange(len(eltstag[0])):\n",
    "    tag1 = eltstag[0][t]\n",
    "    eltyp,nodetags,dim,tag2 = gmsh.model.mesh.get_element(tag1)\n",
    "\n",
    "    n1=gmsh.model.mesh.get_node(nodetags[0])\n",
    "    n1_coord=n1[0]\n",
    "    n1_x=n1_coord[0]\n",
    "    n1_y=n1_coord[1]\n",
    "\n",
    "    n2=gmsh.model.mesh.get_node(nodetags[1])\n",
    "    n2_coord=n2[0]\n",
    "    n2_x=n2_coord[0]\n",
    "    n2_y=n2_coord[1]\n",
    "\n",
    "    n3=gmsh.model.mesh.get_node(nodetags[2])\n",
    "    n3_coord=n3[0]\n",
    "    n3_x=n3_coord[0]\n",
    "    n3_y=n3_coord[1]\n",
    "    \n",
    "    ccl   = []\n",
    "    ccl.append((n1_x,n1_y))\n",
    "    ccl.append((n2_x,n2_y))\n",
    "    ccl.append((n3_x,n3_y))\n",
    "    ccl.append(ccl[0])\n",
    "    patch_list.append(patches.Polygon(ccl,True,linewidth=0))\n",
    "    \n",
    "    pc = collections.PatchCollection(patch_list, cmap='binary', alpha=1)\n",
    "    pc.set_array(np.zeros(1))\n",
    "\n",
    "    #Set the color of the edge according to partition number\n",
    "    cmap = matplotlib.cm.get_cmap('brg')\n",
    "    rgba = cmap(tag2/32)\n",
    "    pc.set_edgecolor(rgba)\n",
    "\n",
    "ax.add_collection(pc)\n"
   ]
  },
  {
   "cell_type": "code",
   "execution_count": 17,
   "id": "9932959c",
   "metadata": {},
   "outputs": [
    {
     "name": "stdout",
     "output_type": "stream",
     "text": [
      "0\n"
     ]
    }
   ],
   "source": [
    "print(nb)"
   ]
  },
  {
   "cell_type": "code",
   "execution_count": null,
   "id": "aefd7699",
   "metadata": {},
   "outputs": [],
   "source": [
    "print(len(dimtags))"
   ]
  },
  {
   "cell_type": "code",
   "execution_count": null,
   "id": "9ef8e3e2",
   "metadata": {},
   "outputs": [],
   "source": [
    "for t in np.arange(len(dimtags)):\n",
    "    print(gmsh.model.getEntityName(dimtags[t][0], dimtags[t][1]))"
   ]
  },
  {
   "cell_type": "code",
   "execution_count": null,
   "id": "79c21563",
   "metadata": {},
   "outputs": [],
   "source": []
  },
  {
   "cell_type": "code",
   "execution_count": null,
   "id": "c6f6d1bd",
   "metadata": {},
   "outputs": [],
   "source": []
  }
 ],
 "metadata": {
  "kernelspec": {
   "display_name": "Python 3 (ipykernel)",
   "language": "python",
   "name": "python3"
  },
  "language_info": {
   "codemirror_mode": {
    "name": "ipython",
    "version": 3
   },
   "file_extension": ".py",
   "mimetype": "text/x-python",
   "name": "python",
   "nbconvert_exporter": "python",
   "pygments_lexer": "ipython3",
   "version": "3.10.5"
  }
 },
 "nbformat": 4,
 "nbformat_minor": 5
}
