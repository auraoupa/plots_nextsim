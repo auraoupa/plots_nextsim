{
 "cells": [
  {
   "cell_type": "code",
   "execution_count": 1,
   "id": "23400dae",
   "metadata": {},
   "outputs": [],
   "source": [
    "experiment='run2_330d_partnodisk'"
   ]
  },
  {
   "cell_type": "code",
   "execution_count": 2,
   "id": "81d8dabb",
   "metadata": {},
   "outputs": [],
   "source": [
    "import matplotlib.pyplot as plt\n",
    "import numpy as np\n",
    "from matplotlib.tri import Triangulation\n",
    "from matplotlib import cm, patches, collections\n",
    "\n",
    "from pynextsim import NextsimBin\n",
    "from pynextsim.nextsim_mesh import NextsimMesh\n",
    "\n",
    "from pynextsim.gmshlib import GmshMesh\n",
    "\n",
    "from pynextsim.drifter_time_series import *\n",
    "import pynextsim.lib as nsl\n",
    "\n",
    "%matplotlib notebook"
   ]
  },
  {
   "cell_type": "code",
   "execution_count": 3,
   "id": "cd56d1f7",
   "metadata": {},
   "outputs": [],
   "source": [
    "mesh_file='/data/experiments/'+experiment+'/mesh_final.bin'\n",
    "mesh = NextsimMesh(mesh_file)"
   ]
  },
  {
   "cell_type": "code",
   "execution_count": 4,
   "id": "fe6478da",
   "metadata": {},
   "outputs": [
    {
     "name": "stdout",
     "output_type": "stream",
     "text": [
      "experiments  small_arctic_10km.msh\r\n"
     ]
    }
   ],
   "source": [
    "!ls /data"
   ]
  },
  {
   "cell_type": "code",
   "execution_count": 5,
   "id": "a5d83294",
   "metadata": {},
   "outputs": [
    {
     "data": {
      "text/plain": [
       "<Other Coordinate Operation Transformer: stere>\n",
       "Description: PROJ-based coordinate operation\n",
       "Area of Use:\n",
       "- undefined"
      ]
     },
     "execution_count": 5,
     "metadata": {},
     "output_type": "execute_result"
    }
   ],
   "source": [
    "mesh.mapping"
   ]
  },
  {
   "cell_type": "code",
   "execution_count": null,
   "id": "ca949759",
   "metadata": {},
   "outputs": [],
   "source": []
  }
 ],
 "metadata": {
  "kernelspec": {
   "display_name": "Python 3 (ipykernel)",
   "language": "python",
   "name": "python3"
  },
  "language_info": {
   "codemirror_mode": {
    "name": "ipython",
    "version": 3
   },
   "file_extension": ".py",
   "mimetype": "text/x-python",
   "name": "python",
   "nbconvert_exporter": "python",
   "pygments_lexer": "ipython3",
   "version": "3.10.5"
  }
 },
 "nbformat": 4,
 "nbformat_minor": 5
}
