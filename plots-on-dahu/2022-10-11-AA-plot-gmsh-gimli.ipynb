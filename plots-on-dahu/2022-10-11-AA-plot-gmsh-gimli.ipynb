{
 "cells": [
  {
   "cell_type": "code",
   "execution_count": 1,
   "id": "18bf8218",
   "metadata": {},
   "outputs": [],
   "source": [
    "import subprocess\n",
    "\n",
    "import matplotlib.pyplot as plt\n",
    "\n",
    "import pygimli as pg\n",
    "from pygimli.meshtools import readGmsh\n"
   ]
  },
  {
   "cell_type": "code",
   "execution_count": 12,
   "id": "584bc6cf",
   "metadata": {},
   "outputs": [],
   "source": [
    "mesh_file='/bettik/alberta/small-arctic-10km-sidfex/experiments/run2_330d_partnodisk/par32small_arctic_10km.msh'\n"
   ]
  },
  {
   "cell_type": "code",
   "execution_count": 4,
   "id": "54f4d8ee",
   "metadata": {},
   "outputs": [
    {
     "name": "stdout",
     "output_type": "stream",
     "text": [
      "Reading /bettik/alberta/small-arctic-10km-sidfex/experiments/run3_330d_partnodisk/par32small_arctic_10km.msh... \n",
      "\n"
     ]
    },
    {
     "ename": "UnicodeDecodeError",
     "evalue": "'utf-8' codec can't decode byte 0x90 in position 57: invalid start byte",
     "output_type": "error",
     "traceback": [
      "\u001b[0;31m---------------------------------------------------------------------------\u001b[0m",
      "\u001b[0;31mUnicodeDecodeError\u001b[0m                        Traceback (most recent call last)",
      "Input \u001b[0;32mIn [4]\u001b[0m, in \u001b[0;36m<cell line: 1>\u001b[0;34m()\u001b[0m\n\u001b[0;32m----> 1\u001b[0m mesh \u001b[38;5;241m=\u001b[39m \u001b[43mreadGmsh\u001b[49m\u001b[43m(\u001b[49m\u001b[43mmesh_file\u001b[49m\u001b[43m,\u001b[49m\u001b[43m \u001b[49m\u001b[43mverbose\u001b[49m\u001b[38;5;241;43m=\u001b[39;49m\u001b[38;5;28;43;01mTrue\u001b[39;49;00m\u001b[43m)\u001b[49m\n",
      "File \u001b[0;32m~/miniconda3/envs/pg/lib/python3.9/site-packages/pygimli/meshtools/mesh.py:736\u001b[0m, in \u001b[0;36mreadGmsh\u001b[0;34m(fName, verbose, precision)\u001b[0m\n\u001b[1;32m    733\u001b[0m \u001b[38;5;28;01mif\u001b[39;00m verbose:\n\u001b[1;32m    734\u001b[0m     \u001b[38;5;28mprint\u001b[39m(\u001b[38;5;124m'\u001b[39m\u001b[38;5;124mReading \u001b[39m\u001b[38;5;132;01m%s\u001b[39;00m\u001b[38;5;124m... \u001b[39m\u001b[38;5;130;01m\\n\u001b[39;00m\u001b[38;5;124m'\u001b[39m \u001b[38;5;241m%\u001b[39m fName)\n\u001b[0;32m--> 736\u001b[0m \u001b[38;5;28;01mfor\u001b[39;00m line \u001b[38;5;129;01min\u001b[39;00m fid:\n\u001b[1;32m    738\u001b[0m     \u001b[38;5;28;01mif\u001b[39;00m line[\u001b[38;5;241m0\u001b[39m] \u001b[38;5;241m==\u001b[39m \u001b[38;5;124m'\u001b[39m\u001b[38;5;124m$\u001b[39m\u001b[38;5;124m'\u001b[39m:\n\u001b[1;32m    739\u001b[0m         \u001b[38;5;28;01mif\u001b[39;00m line\u001b[38;5;241m.\u001b[39mfind(\u001b[38;5;124m'\u001b[39m\u001b[38;5;124mNodes\u001b[39m\u001b[38;5;124m'\u001b[39m) \u001b[38;5;241m>\u001b[39m \u001b[38;5;241m0\u001b[39m:\n",
      "File \u001b[0;32m~/miniconda3/envs/pg/lib/python3.9/codecs.py:322\u001b[0m, in \u001b[0;36mBufferedIncrementalDecoder.decode\u001b[0;34m(self, input, final)\u001b[0m\n\u001b[1;32m    319\u001b[0m \u001b[38;5;28;01mdef\u001b[39;00m \u001b[38;5;21mdecode\u001b[39m(\u001b[38;5;28mself\u001b[39m, \u001b[38;5;28minput\u001b[39m, final\u001b[38;5;241m=\u001b[39m\u001b[38;5;28;01mFalse\u001b[39;00m):\n\u001b[1;32m    320\u001b[0m     \u001b[38;5;66;03m# decode input (taking the buffer into account)\u001b[39;00m\n\u001b[1;32m    321\u001b[0m     data \u001b[38;5;241m=\u001b[39m \u001b[38;5;28mself\u001b[39m\u001b[38;5;241m.\u001b[39mbuffer \u001b[38;5;241m+\u001b[39m \u001b[38;5;28minput\u001b[39m\n\u001b[0;32m--> 322\u001b[0m     (result, consumed) \u001b[38;5;241m=\u001b[39m \u001b[38;5;28;43mself\u001b[39;49m\u001b[38;5;241;43m.\u001b[39;49m\u001b[43m_buffer_decode\u001b[49m\u001b[43m(\u001b[49m\u001b[43mdata\u001b[49m\u001b[43m,\u001b[49m\u001b[43m \u001b[49m\u001b[38;5;28;43mself\u001b[39;49m\u001b[38;5;241;43m.\u001b[39;49m\u001b[43merrors\u001b[49m\u001b[43m,\u001b[49m\u001b[43m \u001b[49m\u001b[43mfinal\u001b[49m\u001b[43m)\u001b[49m\n\u001b[1;32m    323\u001b[0m     \u001b[38;5;66;03m# keep undecoded input until the next call\u001b[39;00m\n\u001b[1;32m    324\u001b[0m     \u001b[38;5;28mself\u001b[39m\u001b[38;5;241m.\u001b[39mbuffer \u001b[38;5;241m=\u001b[39m data[consumed:]\n",
      "\u001b[0;31mUnicodeDecodeError\u001b[0m: 'utf-8' codec can't decode byte 0x90 in position 57: invalid start byte"
     ]
    }
   ],
   "source": [
    "mesh = readGmsh(mesh_file, verbose=True)"
   ]
  },
  {
   "cell_type": "code",
   "execution_count": 13,
   "id": "39246c82",
   "metadata": {},
   "outputs": [],
   "source": [
    "import os\n",
    "\n",
    "import numpy as np\n",
    "\n",
    "import pygimli as pg"
   ]
  },
  {
   "cell_type": "code",
   "execution_count": 14,
   "id": "66ef98ca",
   "metadata": {},
   "outputs": [],
   "source": [
    "fName=mesh_file\n",
    "verbose=True\n",
    "precision=None"
   ]
  },
  {
   "cell_type": "code",
   "execution_count": 15,
   "id": "56fafa47",
   "metadata": {},
   "outputs": [],
   "source": [
    "    assert precision is None or precision >= 0\n",
    "    inNodes, inElements, nCount = 0, 0, 0\n",
    "    fid = open(fName, encoding='latin-1')"
   ]
  },
  {
   "cell_type": "code",
   "execution_count": 16,
   "id": "70fe9c65",
   "metadata": {},
   "outputs": [
    {
     "name": "stdout",
     "output_type": "stream",
     "text": [
      "  Nodes: 66274\n"
     ]
    },
    {
     "ename": "ValueError",
     "evalue": "could not convert string to float: '\\x01\\x00\\x00\\x00\\x90¡*©lAÙ@¸F¬\\x87¯:%Á\\x00\\x00\\x00\\x00\\x00\\x00\\x00\\x00\\x02\\x00\\x00\\x00ø\\x92láÜîà@,ÿÖÈz'",
     "output_type": "error",
     "traceback": [
      "\u001b[0;31m---------------------------------------------------------------------------\u001b[0m",
      "\u001b[0;31mValueError\u001b[0m                                Traceback (most recent call last)",
      "Input \u001b[0;32mIn [16]\u001b[0m, in \u001b[0;36m<cell line: 1>\u001b[0;34m()\u001b[0m\n\u001b[1;32m     18\u001b[0m         \u001b[38;5;28mprint\u001b[39m(\u001b[38;5;124m'\u001b[39m\u001b[38;5;124m  Nodes: \u001b[39m\u001b[38;5;132;01m%s\u001b[39;00m\u001b[38;5;124m'\u001b[39m \u001b[38;5;241m%\u001b[39m \u001b[38;5;28mint\u001b[39m(line))\n\u001b[1;32m     19\u001b[0m \u001b[38;5;28;01melse\u001b[39;00m:\n\u001b[0;32m---> 20\u001b[0m     node_coordinates \u001b[38;5;241m=\u001b[39m \u001b[43mnp\u001b[49m\u001b[38;5;241;43m.\u001b[39;49m\u001b[43marray\u001b[49m\u001b[43m(\u001b[49m\u001b[43mline\u001b[49m\u001b[38;5;241;43m.\u001b[39;49m\u001b[43msplit\u001b[49m\u001b[43m(\u001b[49m\u001b[43m)\u001b[49m\u001b[43m,\u001b[49m\u001b[43m \u001b[49m\u001b[38;5;124;43m'\u001b[39;49m\u001b[38;5;124;43mfloat\u001b[39;49m\u001b[38;5;124;43m'\u001b[39;49m\u001b[43m)\u001b[49m[\u001b[38;5;241m1\u001b[39m:]\n\u001b[1;32m     21\u001b[0m     \u001b[38;5;28;01mif\u001b[39;00m precision \u001b[38;5;129;01mis\u001b[39;00m \u001b[38;5;28;01mNone\u001b[39;00m:\n\u001b[1;32m     22\u001b[0m         nodes[nCount, :] \u001b[38;5;241m=\u001b[39m node_coordinates\n",
      "\u001b[0;31mValueError\u001b[0m: could not convert string to float: '\\x01\\x00\\x00\\x00\\x90¡*©lAÙ@¸F¬\\x87¯:%Á\\x00\\x00\\x00\\x00\\x00\\x00\\x00\\x00\\x02\\x00\\x00\\x00ø\\x92láÜîà@,ÿÖÈz'"
     ]
    }
   ],
   "source": [
    "    for line in fid:\n",
    "\n",
    "        if line[0] == '$':\n",
    "            if line.find('Nodes') > 0:\n",
    "                inNodes = 1\n",
    "            if line.find('EndNodes') > 0:\n",
    "                inNodes = 0\n",
    "            if line.find('Elements') > 0:\n",
    "                inElements = 1\n",
    "            if line.find('EndElements') > 0:\n",
    "                inElements = 0\n",
    "\n",
    "        else:\n",
    "            if inNodes == 1:\n",
    "                if len(line.split()) == 1:\n",
    "                    nodes = np.zeros((int(line), 3))\n",
    "                    if verbose:\n",
    "                        print('  Nodes: %s' % int(line))\n",
    "                else:\n",
    "                    node_coordinates = np.array(line.split(), 'float')[1:]\n",
    "                    if precision is None:\n",
    "                        nodes[nCount, :] = node_coordinates\n",
    "                    else:\n",
    "                        nodes[nCount, :] = np.round(\n",
    "                            node_coordinates, precision)\n",
    "                    nCount += 1\n",
    "\n",
    "            elif inElements == 1:\n",
    "                if len(line.split()) == 1:\n",
    "                    if verbose:\n",
    "                        print('  Entries: %s' % int(line))\n",
    "                    points, lines, triangles, tets = [], [], [], []\n",
    "                    quads = []\n",
    "\n",
    "                else:\n",
    "                    # Element entries follow the following format:\n",
    "                    # elm-number elm-type number-of-tags < tag > …\n",
    "                    #   node-number-list\n",
    "\n",
    "                    # strip elm-number here\n",
    "                    entry = [int(e_) for e_ in line.split()][1:]\n",
    "\n",
    "                    if entry[0] == 15:  # Points\n",
    "                        # point node, marker (1st tag)\n",
    "                        points.append((entry[-1], entry[2]))\n",
    "                    elif entry[0] == 1:\n",
    "                        lines.append((entry[-2], entry[-1], entry[2]))\n",
    "                    elif entry[0] == 2:  # Tri\n",
    "                        triangles.append((entry[-3], entry[-2], entry[-1],\n",
    "                                          entry[2]))\n",
    "                    elif entry[0] == 3:  # Quads\n",
    "                        quads.append((entry[-4], entry[-3], entry[-2],\n",
    "                                      entry[-1], entry[2]))\n",
    "                    elif entry[0] == 4:  # Tet\n",
    "                        tets.append((entry[-4], entry[-3], entry[-2],\n",
    "                                     entry[-1], entry[2]))\n",
    "                    elif entry[0] == 6:\n",
    "                        pg.error(\n",
    "                            \"Quadrangles and prisms are not supported yet\")\n"
   ]
  },
  {
   "cell_type": "code",
   "execution_count": null,
   "id": "731d81c1",
   "metadata": {},
   "outputs": [],
   "source": []
  },
  {
   "cell_type": "code",
   "execution_count": null,
   "id": "00fc5f6c",
   "metadata": {},
   "outputs": [],
   "source": []
  },
  {
   "cell_type": "code",
   "execution_count": null,
   "id": "04e859b7",
   "metadata": {},
   "outputs": [],
   "source": []
  },
  {
   "cell_type": "code",
   "execution_count": null,
   "id": "524ff47c",
   "metadata": {},
   "outputs": [],
   "source": []
  },
  {
   "cell_type": "code",
   "execution_count": null,
   "id": "857d67bd",
   "metadata": {},
   "outputs": [],
   "source": []
  },
  {
   "cell_type": "code",
   "execution_count": 4,
   "id": "d11bbe0d",
   "metadata": {},
   "outputs": [
    {
     "name": "stdout",
     "output_type": "stream",
     "text": [
      "Info    : Reading '/bettik/alberta/small-arctic-10km-sidfex/experiments/run3_330d_partnodisk/par32small_arctic_10km.msh'...\n",
      "Info    : 69081 nodes\n",
      "Info    : 136510 elements\n",
      "Info    : Converting old partitioning...                                   \n",
      "Info    : Creating partition topology...\n",
      "Info    :  - Creating partition curves\n",
      "Info    :  - Creating partition points\n",
      "Info    : Done creating partition topology\n",
      "Info    : Done reading '/bettik/alberta/small-arctic-10km-sidfex/experiments/run3_330d_partnodisk/par32small_arctic_10km.msh'\n"
     ]
    }
   ],
   "source": [
    "pg.show(mesh, ax=ax, markers=True, clipBoundaryMarkers=True)"
   ]
  },
  {
   "cell_type": "code",
   "execution_count": null,
   "id": "e5e39ae5",
   "metadata": {},
   "outputs": [],
   "source": []
  }
 ],
 "metadata": {
  "kernelspec": {
   "display_name": "pg",
   "language": "python",
   "name": "pg"
  },
  "language_info": {
   "codemirror_mode": {
    "name": "ipython",
    "version": 3
   },
   "file_extension": ".py",
   "mimetype": "text/x-python",
   "name": "python",
   "nbconvert_exporter": "python",
   "pygments_lexer": "ipython3",
   "version": "3.9.13"
  }
 },
 "nbformat": 4,
 "nbformat_minor": 5
}
