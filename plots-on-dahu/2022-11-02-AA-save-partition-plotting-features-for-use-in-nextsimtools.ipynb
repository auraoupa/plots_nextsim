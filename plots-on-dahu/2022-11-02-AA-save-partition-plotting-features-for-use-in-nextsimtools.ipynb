{
 "cells": [
  {
   "cell_type": "code",
   "execution_count": 1,
   "id": "8c82838f",
   "metadata": {},
   "outputs": [],
   "source": [
    "import gmsh\n",
    "import numpy as np\n",
    "import matplotlib\n",
    "from matplotlib import pyplot as plt\n",
    "from matplotlib.tri import Triangulation\n",
    "from matplotlib import cm, patches, collections"
   ]
  },
  {
   "cell_type": "code",
   "execution_count": 2,
   "id": "9de15b12",
   "metadata": {},
   "outputs": [],
   "source": [
    "experiment='run_330d_iabp'"
   ]
  },
  {
   "cell_type": "code",
   "execution_count": 3,
   "id": "63620b9d",
   "metadata": {},
   "outputs": [],
   "source": [
    "mesh_file='/bettik/alberta/small-arctic-10km-iabp/experiments/run_330d_iabp/par32small_arctic_10km.msh'"
   ]
  },
  {
   "cell_type": "code",
   "execution_count": 4,
   "id": "cba10ec8",
   "metadata": {},
   "outputs": [
    {
     "name": "stdout",
     "output_type": "stream",
     "text": [
      "Info    : Reading '/bettik/alberta/small-arctic-10km-iabp/experiments/run_330d_iabp/par32small_arctic_10km.msh'...\n",
      "Info    : 66212 nodes\n",
      "Info    : 130689 elements\n",
      "Info    : Converting old partitioning...                                   \n",
      "Info    : Creating partition topology...\n",
      "Info    :  - Creating partition curves\n",
      "Info    :  - Creating partition points\n",
      "Info    : Done creating partition topology\n",
      "Info    : Done reading '/bettik/alberta/small-arctic-10km-iabp/experiments/run_330d_iabp/par32small_arctic_10km.msh'\n"
     ]
    }
   ],
   "source": [
    "gmsh.initialize()\n",
    "file = gmsh.open(mesh_file)"
   ]
  },
  {
   "cell_type": "code",
   "execution_count": 5,
   "id": "19b30bbe",
   "metadata": {},
   "outputs": [
    {
     "name": "stdout",
     "output_type": "stream",
     "text": [
      "32\n"
     ]
    }
   ],
   "source": [
    "# Number of partitions (i.e. as many partitions as processors on which the simulation has run)\n",
    "NP =  gmsh.model.getNumberOfPartitions()\n",
    "print(NP)\n",
    "\n",
    "# Get all Entities from gmsh file\n",
    "entities = gmsh.model.getEntities()"
   ]
  },
  {
   "cell_type": "code",
   "execution_count": 6,
   "id": "d331d8ac",
   "metadata": {},
   "outputs": [],
   "source": [
    "def GetPartitionsFromEntities(entities,NP):\n",
    "    \"\"\" Gets mesh triangles and nodes coordinates from reading the entities of a gmsh file.\n",
    "    \n",
    "    Reads all entities from the gmsh model and look for \"Partition surfaces\". Loops over the partitions \n",
    "    and gets for each partition, all the nodes includes in the partitions (reads their x,y coordinates) \n",
    "    and all the mesh elements corresponding to this partitions (i.e. the triangles).\n",
    "    \n",
    "    Parameters\n",
    "    ----------\n",
    "    entities : Previously read from gmsh file \n",
    "        with 'entities = gmsh.model.getEntities()'\n",
    "\n",
    "    NP : int\n",
    "        Number of partitions (read from gmsh file with\n",
    "        'NP=gmsh.model.getNumberOfPartitions()'\n",
    "        \n",
    "    Returns\n",
    "    -------\n",
    "    3 array_like of size NPx5000\n",
    "        bigelemtags,bignodes_x,bignodes_y\n",
    "        containing , for each of the NP partition, the tag of each elements, the x and y coordinates of each node.\n",
    "    \"\"\"\n",
    "    bignodes_x = np.zeros((NP,5000))\n",
    "    bignodes_y = np.zeros((NP,5000))\n",
    "    bigelemtags = np.zeros((NP,5000))\n",
    "    for ipart in range(0,NP):\n",
    "        icount=-1\n",
    "        for e in entities:\n",
    "            if (gmsh.model.getType(e[0], e[1])==\"Partition surface\"):\n",
    "                partitions = gmsh.model.getPartitions(e[0], e[1])\n",
    "                if len(partitions):\n",
    "                    if ipart in partitions:\n",
    "                        # get the mesh nodes for each elementary entity\n",
    "                        nodeTags, nodeCoords, nodeParams = gmsh.model.mesh.getNodes(e[0], e[1])\n",
    "                        # Get the mesh elements for the entity (dim, tag):\n",
    "                        elemTypes, elemTags, elemNodeTags = gmsh.model.mesh.getElements(e[0], e[1])\n",
    "                        # save x,y coordinates of all nodes in the given partition (ipart)\n",
    "                        bignodes_x[ipart,:len(nodeCoords[0::3])] = nodeCoords[0::3]\n",
    "                        bignodes_y[ipart,:len(nodeCoords[1::3])] = nodeCoords[1::3]\n",
    "                        # save the elements tag in the given partition\n",
    "                        bigelemtags[ipart,:len(elemTags[0])] = elemTags[0]\n",
    "    return bigelemtags,bignodes_x,bignodes_y\n",
    "\n",
    "\n",
    "def preparecollection4plt(patchlist,c):\n",
    "    \"\"\" Prepare to plot the patch for each partiton\n",
    "    \n",
    "    \n",
    "    Parameters\n",
    "    ----------\n",
    "    patchlist : computed from makecollectionpart\n",
    "\n",
    "    c : hex color\n",
    "        color to plot the partition with\n",
    "        \n",
    "    Returns\n",
    "    -------\n",
    "    pc the patch collection to plot\n",
    "        \n",
    "\n",
    "    \"\"\"\n",
    "    pc = collections.PatchCollection(patchlist, cmap='binary', alpha=1)\n",
    "    pc.set_array(np.zeros(1))\n",
    "    pc.set_edgecolor(c)\n",
    "    return pc\n",
    "\n",
    "def makecollectionpart(bigelemtags,ipart,sfac):\n",
    "    \"\"\" Collect all triangles to plot for a given partiton\n",
    "    \n",
    "    \n",
    "    Parameters\n",
    "    ----------\n",
    "    bigelemtags : array of all tags of elements corresponding to each of the NP partitons\n",
    "\n",
    "    ipart : int \n",
    "        partition index\n",
    "    \n",
    "    sfac  : float\n",
    "        \n",
    "        scale factor to convert the coordinates with (for example from m to km)\n",
    "    Returns\n",
    "    -------\n",
    "    patch_list corresponding to the given partition\n",
    "        \n",
    "    \"\"\"\n",
    "\n",
    "    #Set up the triangles\n",
    "    patch_list  = []\n",
    "    rgba_list = []\n",
    "    nodes1_x = []\n",
    "    nodes1_y = []\n",
    "    nodes2_x = []\n",
    "    nodes2_y = []\n",
    "    nodes3_x = []\n",
    "    nodes3_y = []\n",
    "    part = []\n",
    "    tag = []\n",
    "\n",
    "    for t in np.arange(len(bigelemtags[ipart,:])):\n",
    "        #print(t)\n",
    "        tag1 = int(bigelemtags[ipart,t])\n",
    "        if tag1>0:\n",
    "            eltyp,nodetags,dim,tag2 = gmsh.model.mesh.get_element(tag1)\n",
    "            part.append(tag2)\n",
    "\n",
    "            tag.append(t)\n",
    "\n",
    "            n1=gmsh.model.mesh.get_node(nodetags[0])\n",
    "            n1_coord=n1[0]\n",
    "            n1_x=n1_coord[0]*sfac\n",
    "            n1_y=n1_coord[1]*sfac\n",
    "            nodes1_x.append(n1_x)\n",
    "            nodes1_y.append(n1_y)\n",
    "\n",
    "            n2=gmsh.model.mesh.get_node(nodetags[1])\n",
    "            n2_coord=n2[0]\n",
    "            n2_x=n2_coord[0]*sfac\n",
    "            n2_y=n2_coord[1]*sfac\n",
    "            nodes2_x.append(n2_x)\n",
    "            nodes2_y.append(n2_y)\n",
    "\n",
    "            n3=gmsh.model.mesh.get_node(nodetags[2])\n",
    "            n3_coord=n3[0]\n",
    "            n3_x=n3_coord[0]*sfac\n",
    "            n3_y=n3_coord[1]*sfac\n",
    "            nodes3_x.append(n3_x)\n",
    "            nodes3_y.append(n3_y)\n",
    "\n",
    "            ccl   = []\n",
    "            ccl.append((n1_x,n1_y))\n",
    "            ccl.append((n2_x,n2_y))\n",
    "            ccl.append((n3_x,n3_y))\n",
    "            ccl.append(ccl[0])\n",
    "            \n",
    "            patch_list.append(patches.Polygon(ccl,True,linewidth=0))\n",
    "    return patch_list        \n"
   ]
  },
  {
   "cell_type": "code",
   "execution_count": 7,
   "id": "4cd44777",
   "metadata": {},
   "outputs": [],
   "source": [
    "bigelemtags,bignodes_x,bignodes_y = GetPartitionsFromEntities(entities,NP)               "
   ]
  },
  {
   "cell_type": "code",
   "execution_count": 13,
   "id": "8c9bb162",
   "metadata": {},
   "outputs": [
    {
     "data": {
      "text/plain": [
       "array([[      0.        ,       0.        ,       0.        , ...,\n",
       "              0.        ,       0.        ,       0.        ],\n",
       "       [ 264884.8770639 ,  270765.24617139,  279453.31133109, ...,\n",
       "              0.        ,       0.        ,       0.        ],\n",
       "       [ 128376.72624263,  118047.05986627,  134867.45322203, ...,\n",
       "              0.        ,       0.        ,       0.        ],\n",
       "       ...,\n",
       "       [-376408.29949892, -386196.2896714 , -377734.89809865, ...,\n",
       "              0.        ,       0.        ,       0.        ],\n",
       "       [-436501.26305056, -446064.82131929, -443771.0708608 , ...,\n",
       "              0.        ,       0.        ,       0.        ],\n",
       "       [-608774.30177583, -615746.26968407, -607958.77528646, ...,\n",
       "              0.        ,       0.        ,       0.        ]])"
      ]
     },
     "execution_count": 13,
     "metadata": {},
     "output_type": "execute_result"
    }
   ],
   "source": [
    "bignodes_y"
   ]
  },
  {
   "cell_type": "code",
   "execution_count": 8,
   "id": "bfbb472f",
   "metadata": {},
   "outputs": [],
   "source": [
    "# scale factor so that x and y are in km instead of m\n",
    "sfac=1e-3\n",
    "\n",
    "# initialize a list that will collect the NP lists corresponding to each of the NP partitions\n",
    "allpatchlists=[]\n",
    "\n",
    "# loop on the partitions\n",
    "for ipart in range(0,NP):\n",
    "    allpatchlists.append(makecollectionpart(bigelemtags,ipart,sfac))\n"
   ]
  },
  {
   "cell_type": "code",
   "execution_count": 9,
   "id": "7659e956",
   "metadata": {},
   "outputs": [],
   "source": [
    "# create a color_list of NP different colors\n",
    "cmap = cm.get_cmap('Spectral', NP)\n",
    "color_list = [matplotlib.colors.rgb2hex(cmap(i)[:3]) for i in range(cmap.N)]\n"
   ]
  },
  {
   "cell_type": "code",
   "execution_count": 15,
   "id": "2193a2bd",
   "metadata": {},
   "outputs": [],
   "source": [
    "np.savetxt('bigelemtags.txt',bigelemtags)\n",
    "np.savetxt('bignodes_x.txt',bignodes_x)\n",
    "np.savetxt('bignodes_y.txt',bignodes_y)\n"
   ]
  },
  {
   "cell_type": "code",
   "execution_count": null,
   "id": "23400dae",
   "metadata": {},
   "outputs": [],
   "source": [
    "with open(\"color.txt\", \"w\") as file:\n",
    "    file.write(str(color_list))\n"
   ]
  }
 ],
 "metadata": {
  "kernelspec": {
   "display_name": "Python 3 (ipykernel)",
   "language": "python",
   "name": "python3"
  },
  "language_info": {
   "codemirror_mode": {
    "name": "ipython",
    "version": 3
   },
   "file_extension": ".py",
   "mimetype": "text/x-python",
   "name": "python",
   "nbconvert_exporter": "python",
   "pygments_lexer": "ipython3",
   "version": "3.10.5"
  }
 },
 "nbformat": 4,
 "nbformat_minor": 5
}
