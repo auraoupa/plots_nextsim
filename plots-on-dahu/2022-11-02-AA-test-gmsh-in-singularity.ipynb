{
 "cells": [
  {
   "cell_type": "code",
   "execution_count": 1,
   "id": "8c82838f",
   "metadata": {},
   "outputs": [],
   "source": [
    "import gmsh\n",
    "import numpy as np\n",
    "import matplotlib\n",
    "from matplotlib import pyplot as plt\n",
    "from matplotlib.tri import Triangulation\n",
    "from matplotlib import cm, patches, collections"
   ]
  },
  {
   "cell_type": "code",
   "execution_count": 2,
   "id": "9de15b12",
   "metadata": {},
   "outputs": [],
   "source": [
    "experiment='run_330d_iabp'"
   ]
  },
  {
   "cell_type": "code",
   "execution_count": 3,
   "id": "63620b9d",
   "metadata": {},
   "outputs": [],
   "source": [
    "mesh_file='/bettik/alberta/small-arctic-10km-iabp/experiments/run_330d_iabp/par32small_arctic_10km.msh'"
   ]
  },
  {
   "cell_type": "code",
   "execution_count": 4,
   "id": "cba10ec8",
   "metadata": {},
   "outputs": [],
   "source": [
    "gmsh.initialize()\n",
    "file = gmsh.open(mesh_file)"
   ]
  },
  {
   "cell_type": "code",
   "execution_count": 10,
   "id": "edda1144",
   "metadata": {},
   "outputs": [],
   "source": [
    "file"
   ]
  },
  {
   "cell_type": "code",
   "execution_count": 5,
   "id": "19b30bbe",
   "metadata": {},
   "outputs": [
    {
     "name": "stdout",
     "output_type": "stream",
     "text": [
      "0\n"
     ]
    }
   ],
   "source": [
    "# Number of partitions (i.e. as many partitions as processors on which the simulation has run)\n",
    "NP =  gmsh.model.getNumberOfPartitions()\n",
    "print(NP)\n",
    "\n",
    "# Get all Entities from gmsh file\n",
    "entities = gmsh.model.getEntities()"
   ]
  },
  {
   "cell_type": "code",
   "execution_count": 6,
   "id": "d331d8ac",
   "metadata": {},
   "outputs": [],
   "source": [
    "def GetPartitionsFromEntities(entities,NP):\n",
    "    \"\"\" Gets mesh triangles and nodes coordinates from reading the entities of a gmsh file.\n",
    "    \n",
    "    Reads all entities from the gmsh model and look for \"Partition surfaces\". Loops over the partitions \n",
    "    and gets for each partition, all the nodes includes in the partitions (reads their x,y coordinates) \n",
    "    and all the mesh elements corresponding to this partitions (i.e. the triangles).\n",
    "    \n",
    "    Parameters\n",
    "    ----------\n",
    "    entities : Previously read from gmsh file \n",
    "        with 'entities = gmsh.model.getEntities()'\n",
    "\n",
    "    NP : int\n",
    "        Number of partitions (read from gmsh file with\n",
    "        'NP=gmsh.model.getNumberOfPartitions()'\n",
    "        \n",
    "    Returns\n",
    "    -------\n",
    "    3 array_like of size NPx5000\n",
    "        bigelemtags,bignodes_x,bignodes_y\n",
    "        containing , for each of the NP partition, the tag of each elements, the x and y coordinates of each node.\n",
    "    \"\"\"\n",
    "    bignodes_x = np.zeros((NP,5000))\n",
    "    bignodes_y = np.zeros((NP,5000))\n",
    "    bigelemtags = np.zeros((NP,5000))\n",
    "    for ipart in range(0,NP):\n",
    "        icount=-1\n",
    "        for e in entities:\n",
    "            if (gmsh.model.getType(e[0], e[1])==\"Partition surface\"):\n",
    "                partitions = gmsh.model.getPartitions(e[0], e[1])\n",
    "                if len(partitions):\n",
    "                    if ipart in partitions:\n",
    "                        # get the mesh nodes for each elementary entity\n",
    "                        nodeTags, nodeCoords, nodeParams = gmsh.model.mesh.getNodes(e[0], e[1])\n",
    "                        # Get the mesh elements for the entity (dim, tag):\n",
    "                        elemTypes, elemTags, elemNodeTags = gmsh.model.mesh.getElements(e[0], e[1])\n",
    "                        # save x,y coordinates of all nodes in the given partition (ipart)\n",
    "                        bignodes_x[ipart,:len(nodeCoords[0::3])] = nodeCoords[0::3]\n",
    "                        bignodes_y[ipart,:len(nodeCoords[1::3])] = nodeCoords[1::3]\n",
    "                        # save the elements tag in the given partition\n",
    "                        bigelemtags[ipart,:len(elemTags[0])] = elemTags[0]\n",
    "    return bigelemtags,bignodes_x,bignodes_y\n",
    "\n",
    "\n",
    "def preparecollection4plt(patchlist,c):\n",
    "    \"\"\" Prepare to plot the patch for each partiton\n",
    "    \n",
    "    \n",
    "    Parameters\n",
    "    ----------\n",
    "    patchlist : computed from makecollectionpart\n",
    "\n",
    "    c : hex color\n",
    "        color to plot the partition with\n",
    "        \n",
    "    Returns\n",
    "    -------\n",
    "    pc the patch collection to plot\n",
    "        \n",
    "\n",
    "    \"\"\"\n",
    "    pc = collections.PatchCollection(patchlist, cmap='binary', alpha=1)\n",
    "    pc.set_array(np.zeros(1))\n",
    "    pc.set_edgecolor(c)\n",
    "    return pc\n",
    "\n",
    "def makecollectionpart(bigelemtags,ipart,sfac):\n",
    "    \"\"\" Collect all triangles to plot for a given partiton\n",
    "    \n",
    "    \n",
    "    Parameters\n",
    "    ----------\n",
    "    bigelemtags : array of all tags of elements corresponding to each of the NP partitons\n",
    "\n",
    "    ipart : int \n",
    "        partition index\n",
    "    \n",
    "    sfac  : float\n",
    "        \n",
    "        scale factor to convert the coordinates with (for example from m to km)\n",
    "    Returns\n",
    "    -------\n",
    "    patch_list corresponding to the given partition\n",
    "        \n",
    "    \"\"\"\n",
    "\n",
    "    #Set up the triangles\n",
    "    patch_list  = []\n",
    "    rgba_list = []\n",
    "    nodes1_x = []\n",
    "    nodes1_y = []\n",
    "    nodes2_x = []\n",
    "    nodes2_y = []\n",
    "    nodes3_x = []\n",
    "    nodes3_y = []\n",
    "    part = []\n",
    "    tag = []\n",
    "\n",
    "    for t in np.arange(len(bigelemtags[ipart,:])):\n",
    "        #print(t)\n",
    "        tag1 = int(bigelemtags[ipart,t])\n",
    "        if tag1>0:\n",
    "            eltyp,nodetags,dim,tag2 = gmsh.model.mesh.get_element(tag1)\n",
    "            part.append(tag2)\n",
    "\n",
    "            tag.append(t)\n",
    "\n",
    "            n1=gmsh.model.mesh.get_node(nodetags[0])\n",
    "            n1_coord=n1[0]\n",
    "            n1_x=n1_coord[0]*sfac\n",
    "            n1_y=n1_coord[1]*sfac\n",
    "            nodes1_x.append(n1_x)\n",
    "            nodes1_y.append(n1_y)\n",
    "\n",
    "            n2=gmsh.model.mesh.get_node(nodetags[1])\n",
    "            n2_coord=n2[0]\n",
    "            n2_x=n2_coord[0]*sfac\n",
    "            n2_y=n2_coord[1]*sfac\n",
    "            nodes2_x.append(n2_x)\n",
    "            nodes2_y.append(n2_y)\n",
    "\n",
    "            n3=gmsh.model.mesh.get_node(nodetags[2])\n",
    "            n3_coord=n3[0]\n",
    "            n3_x=n3_coord[0]*sfac\n",
    "            n3_y=n3_coord[1]*sfac\n",
    "            nodes3_x.append(n3_x)\n",
    "            nodes3_y.append(n3_y)\n",
    "\n",
    "            ccl   = []\n",
    "            ccl.append((n1_x,n1_y))\n",
    "            ccl.append((n2_x,n2_y))\n",
    "            ccl.append((n3_x,n3_y))\n",
    "            ccl.append(ccl[0])\n",
    "            \n",
    "            patch_list.append(patches.Polygon(ccl,True,linewidth=0))\n",
    "    return patch_list        \n"
   ]
  },
  {
   "cell_type": "code",
   "execution_count": 7,
   "id": "4cd44777",
   "metadata": {},
   "outputs": [],
   "source": [
    "bigelemtags,bignodes_x,bignodes_y = GetPartitionsFromEntities(entities,NP)               "
   ]
  },
  {
   "cell_type": "code",
   "execution_count": 8,
   "id": "bfbb472f",
   "metadata": {},
   "outputs": [],
   "source": [
    "# scale factor so that x and y are in km instead of m\n",
    "sfac=1e-3\n",
    "\n",
    "# initialize a list that will collect the NP lists corresponding to each of the NP partitions\n",
    "allpatchlists=[]\n",
    "\n",
    "# loop on the partitions\n",
    "for ipart in range(0,NP):\n",
    "    allpatchlists.append(makecollectionpart(bigelemtags,ipart,sfac))\n"
   ]
  },
  {
   "cell_type": "code",
   "execution_count": 9,
   "id": "7659e956",
   "metadata": {},
   "outputs": [
    {
     "data": {
      "image/png": "[encoded data removed]",
      "text/plain": [
       "<Figure size 432x288 with 1 Axes>"
      ]
     },
     "metadata": {
      "needs_background": "light"
     },
     "output_type": "display_data"
    }
   ],
   "source": [
    "# create a color_list of NP different colors\n",
    "cmap = cm.get_cmap('Spectral', NP)\n",
    "color_list = [matplotlib.colors.rgb2hex(cmap(i)[:3]) for i in range(cmap.N)]\n",
    "\n",
    "# create figure\n",
    "ax = plt.figure().add_subplot(111)\n",
    "fig = ax.figure\n",
    "\n",
    "ax.set_xlim(-2500,2000)\n",
    "ax.set_ylim(-1500,2500)\n",
    "\n",
    "# loop on the NP partitions and plot the corresponding collection of patches with a given color\n",
    "for ip in range(0,NP):\n",
    "    ax.add_collection(preparecollection4plt(allpatchlists[ip],color_list[ip]))\n",
    "\n"
   ]
  },
  {
   "cell_type": "code",
   "execution_count": 1,
   "id": "f825e363",
   "metadata": {},
   "outputs": [],
   "source": [
    "import matplotlib.pyplot as plt\n",
    "import numpy as np\n",
    "from matplotlib.tri import Triangulation\n",
    "from matplotlib import cm, patches, collections\n",
    "\n",
    "from pynextsim import NextsimBin\n",
    "from pynextsim.nextsim_mesh import NextsimMesh\n",
    "\n",
    "from pynextsim.gmshlib import GmshMesh\n",
    "\n",
    "from pynextsim.drifter_time_series import *\n",
    "import pynextsim.lib as nsl\n",
    "\n",
    "%matplotlib notebook"
   ]
  },
  {
   "cell_type": "code",
   "execution_count": 5,
   "id": "75471146",
   "metadata": {},
   "outputs": [
    {
     "ename": "ValueError",
     "evalue": "Cannot open /data/experiments/run2_330d_partnodisk/mesh_final.bin or /data/experiments/run2_330d_partnodisk/mesh_final.bin.bin",
     "output_type": "error",
     "traceback": [
      "\u001b[0;31m---------------------------------------------------------------------------\u001b[0m",
      "\u001b[0;31mValueError\u001b[0m                                Traceback (most recent call last)",
      "Input \u001b[0;32mIn [5]\u001b[0m, in \u001b[0;36m<cell line: 3>\u001b[0;34m()\u001b[0m\n\u001b[1;32m      1\u001b[0m experiment\u001b[38;5;241m=\u001b[39m\u001b[38;5;124m'\u001b[39m\u001b[38;5;124mrun2_330d_partnodisk\u001b[39m\u001b[38;5;124m'\u001b[39m\n\u001b[1;32m      2\u001b[0m mesh_file\u001b[38;5;241m=\u001b[39m\u001b[38;5;124m'\u001b[39m\u001b[38;5;124m/data/experiments/\u001b[39m\u001b[38;5;124m'\u001b[39m\u001b[38;5;241m+\u001b[39mexperiment\u001b[38;5;241m+\u001b[39m\u001b[38;5;124m'\u001b[39m\u001b[38;5;124m/mesh_final.bin\u001b[39m\u001b[38;5;124m'\u001b[39m\n\u001b[0;32m----> 3\u001b[0m mesh \u001b[38;5;241m=\u001b[39m \u001b[43mNextsimMesh\u001b[49m\u001b[43m(\u001b[49m\u001b[43mmesh_file\u001b[49m\u001b[43m)\u001b[49m\n",
      "File \u001b[0;32m/bettik/alberta/n/nextsim-tools/python/pynextsim/nextsim_mesh.py:41\u001b[0m, in \u001b[0;36mNextsimMesh.__init__\u001b[0;34m(self, mesh_file, gmsh_obj, gmsh_file, mppfile, add_gmsh, **kwargs)\u001b[0m\n\u001b[1;32m     12\u001b[0m \u001b[38;5;28;01mdef\u001b[39;00m \u001b[38;5;21m__init__\u001b[39m(\u001b[38;5;28mself\u001b[39m, mesh_file,\n\u001b[1;32m     13\u001b[0m                    gmsh_obj\u001b[38;5;241m=\u001b[39m\u001b[38;5;28;01mNone\u001b[39;00m,\n\u001b[1;32m     14\u001b[0m                    gmsh_file\u001b[38;5;241m=\u001b[39m\u001b[38;5;28;01mNone\u001b[39;00m,\n\u001b[1;32m     15\u001b[0m                    mppfile\u001b[38;5;241m=\u001b[39m\u001b[38;5;28;01mNone\u001b[39;00m,\n\u001b[1;32m     16\u001b[0m                    add_gmsh\u001b[38;5;241m=\u001b[39m\u001b[38;5;28;01mFalse\u001b[39;00m,\n\u001b[1;32m     17\u001b[0m                    \u001b[38;5;241m*\u001b[39m\u001b[38;5;241m*\u001b[39mkwargs):\n\u001b[1;32m     18\u001b[0m     \u001b[38;5;124;03m\"\"\"Init object from input file\u001b[39;00m\n\u001b[1;32m     19\u001b[0m \n\u001b[1;32m     20\u001b[0m \u001b[38;5;124;03m    Parameters\u001b[39;00m\n\u001b[0;32m   (...)\u001b[0m\n\u001b[1;32m     39\u001b[0m \n\u001b[1;32m     40\u001b[0m \u001b[38;5;124;03m    \"\"\"\u001b[39;00m\n\u001b[0;32m---> 41\u001b[0m     \u001b[38;5;28;43msuper\u001b[39;49m\u001b[43m(\u001b[49m\u001b[43mNextsimMesh\u001b[49m\u001b[43m,\u001b[49m\u001b[43m \u001b[49m\u001b[38;5;28;43mself\u001b[39;49m\u001b[43m)\u001b[49m\u001b[38;5;241;43m.\u001b[39;49m\u001b[38;5;21;43m__init__\u001b[39;49m\u001b[43m(\u001b[49m\u001b[43mmesh_file\u001b[49m\u001b[43m,\u001b[49m\u001b[43m \u001b[49m\u001b[38;5;241;43m*\u001b[39;49m\u001b[38;5;241;43m*\u001b[39;49m\u001b[43mkwargs\u001b[49m\u001b[43m)\u001b[49m\n\u001b[1;32m     43\u001b[0m     \u001b[38;5;28mself\u001b[39m\u001b[38;5;241m.\u001b[39mnum_nodes       \u001b[38;5;241m=\u001b[39m \u001b[38;5;28mself\u001b[39m\u001b[38;5;241m.\u001b[39mvariable_lengths[\u001b[38;5;124m'\u001b[39m\u001b[38;5;124mNodes_x\u001b[39m\u001b[38;5;124m'\u001b[39m]\n\u001b[1;32m     44\u001b[0m     \u001b[38;5;28mself\u001b[39m\u001b[38;5;241m.\u001b[39mnum_elements    \u001b[38;5;241m=\u001b[39m \u001b[38;5;28mint\u001b[39m(\u001b[38;5;28mself\u001b[39m\u001b[38;5;241m.\u001b[39mvariable_lengths[\u001b[38;5;124m'\u001b[39m\u001b[38;5;124mElements\u001b[39m\u001b[38;5;124m'\u001b[39m]\u001b[38;5;241m/\u001b[39m\u001b[38;5;241m3\u001b[39m)\n",
      "File \u001b[0;32m/bettik/alberta/n/nextsim-tools/python/pynextsim/nextsim_bin_base.py:39\u001b[0m, in \u001b[0;36mNextsimBinBase.__init__\u001b[0;34m(self, input_file, options, logfile, **kwargs)\u001b[0m\n\u001b[1;32m     37\u001b[0m     infile \u001b[38;5;241m+\u001b[39m\u001b[38;5;241m=\u001b[39m \u001b[38;5;124m'\u001b[39m\u001b[38;5;124m.bin\u001b[39m\u001b[38;5;124m'\u001b[39m\n\u001b[1;32m     38\u001b[0m     \u001b[38;5;28;01mif\u001b[39;00m \u001b[38;5;129;01mnot\u001b[39;00m os\u001b[38;5;241m.\u001b[39mpath\u001b[38;5;241m.\u001b[39mexists(infile):\n\u001b[0;32m---> 39\u001b[0m         \u001b[38;5;28;01mraise\u001b[39;00m \u001b[38;5;167;01mValueError\u001b[39;00m(\u001b[38;5;124m'\u001b[39m\u001b[38;5;124mCannot open \u001b[39m\u001b[38;5;132;01m%s\u001b[39;00m\u001b[38;5;124m or \u001b[39m\u001b[38;5;132;01m%s\u001b[39;00m\u001b[38;5;124m'\u001b[39m \u001b[38;5;241m%\u001b[39m(input_file, infile))\n\u001b[1;32m     41\u001b[0m infile0 \u001b[38;5;241m=\u001b[39m os\u001b[38;5;241m.\u001b[39mpath\u001b[38;5;241m.\u001b[39msplitext(os\u001b[38;5;241m.\u001b[39mpath\u001b[38;5;241m.\u001b[39mabspath(infile))[\u001b[38;5;241m0\u001b[39m]\n\u001b[1;32m     42\u001b[0m \u001b[38;5;28mself\u001b[39m\u001b[38;5;241m.\u001b[39mbin_file \u001b[38;5;241m=\u001b[39m infile0\u001b[38;5;241m+\u001b[39m\u001b[38;5;124m'\u001b[39m\u001b[38;5;124m.bin\u001b[39m\u001b[38;5;124m'\u001b[39m\n",
      "\u001b[0;31mValueError\u001b[0m: Cannot open /data/experiments/run2_330d_partnodisk/mesh_final.bin or /data/experiments/run2_330d_partnodisk/mesh_final.bin.bin"
     ]
    }
   ],
   "source": [
    "experiment='run2_330d_partnodisk'\n",
    "mesh_file='/data/experiments/'+experiment+'/mesh_final.bin'\n",
    "mesh = NextsimMesh(mesh_file)"
   ]
  },
  {
   "cell_type": "code",
   "execution_count": 3,
   "id": "fc322c3d",
   "metadata": {},
   "outputs": [],
   "source": [
    "experiment2='run2_330d_partnodisk'\n",
    "mesh_file2='/bettik/alberta/small-arctic-10km-sidfex/experiments/'+experiment2+'/mesh_final.bin'\n",
    "mesh2 = NextsimMesh(mesh_file2)"
   ]
  },
  {
   "cell_type": "code",
   "execution_count": 4,
   "id": "1eb7a66f",
   "metadata": {},
   "outputs": [
    {
     "ename": "AttributeError",
     "evalue": "Unknown attribute mapping",
     "output_type": "error",
     "traceback": [
      "\u001b[0;31m---------------------------------------------------------------------------\u001b[0m",
      "\u001b[0;31mAttributeError\u001b[0m                            Traceback (most recent call last)",
      "Input \u001b[0;32mIn [4]\u001b[0m, in \u001b[0;36m<cell line: 1>\u001b[0;34m()\u001b[0m\n\u001b[0;32m----> 1\u001b[0m \u001b[43mmesh2\u001b[49m\u001b[38;5;241;43m.\u001b[39;49m\u001b[43mmapping\u001b[49m\n",
      "File \u001b[0;32m/bettik/alberta/n/nextsim-tools/python/pynextsim/nextsim_mesh_base.py:55\u001b[0m, in \u001b[0;36mNextsimMeshBase.__getattr__\u001b[0;34m(self, name)\u001b[0m\n\u001b[1;32m     53\u001b[0m     \u001b[38;5;28;01mreturn\u001b[39;00m \u001b[38;5;28mself\u001b[39m\u001b[38;5;241m.\u001b[39mgeom_info[name]\n\u001b[1;32m     54\u001b[0m \u001b[38;5;28;01melse\u001b[39;00m:\n\u001b[0;32m---> 55\u001b[0m     \u001b[38;5;28;01mraise\u001b[39;00m \u001b[38;5;167;01mAttributeError\u001b[39;00m(\u001b[38;5;124mf\u001b[39m\u001b[38;5;124m'\u001b[39m\u001b[38;5;124mUnknown attribute \u001b[39m\u001b[38;5;132;01m{\u001b[39;00mname\u001b[38;5;132;01m}\u001b[39;00m\u001b[38;5;124m'\u001b[39m)\n",
      "\u001b[0;31mAttributeError\u001b[0m: Unknown attribute mapping"
     ]
    }
   ],
   "source": [
    "mesh2.mapping"
   ]
  },
  {
   "cell_type": "code",
   "execution_count": 34,
   "id": "14fa5295",
   "metadata": {},
   "outputs": [],
   "source": [
    "field_file='/bettik/alberta/small-arctic-10km-iabp/experiments/'+experiment+'/field_final.bin'\n",
    "field = NextsimBin(field_file)"
   ]
  },
  {
   "cell_type": "code",
   "execution_count": 35,
   "id": "2dae3d1b",
   "metadata": {},
   "outputs": [],
   "source": [
    "drifters_file='/bettik/alberta/small-arctic-10km-iabp/experiments/'+experiment+'/IABP_Drifters_20060202.txt'"
   ]
  },
  {
   "cell_type": "code",
   "execution_count": 36,
   "id": "737604ec",
   "metadata": {},
   "outputs": [],
   "source": [
    "import pandas as pd"
   ]
  },
  {
   "cell_type": "code",
   "execution_count": 42,
   "id": "79568afb",
   "metadata": {},
   "outputs": [],
   "source": [
    "df = pd.read_csv(drifters_file, delimiter=r\"\\s+\")"
   ]
  },
  {
   "cell_type": "code",
   "execution_count": 43,
   "id": "287484f6",
   "metadata": {},
   "outputs": [
    {
     "name": "stdout",
     "output_type": "stream",
     "text": [
      "<class 'pandas.core.frame.DataFrame'>\n",
      "RangeIndex: 36847 entries, 0 to 36846\n",
      "Data columns (total 8 columns):\n",
      " #   Column         Non-Null Count  Dtype  \n",
      "---  ------         --------------  -----  \n",
      " 0   Year           36847 non-null  int64  \n",
      " 1   Month          36847 non-null  int64  \n",
      " 2   Day            36847 non-null  int64  \n",
      " 3   Hour           36847 non-null  int64  \n",
      " 4   BuoyID         36847 non-null  int64  \n",
      " 5   Lat            36847 non-null  float64\n",
      " 6   Lon            36847 non-null  float64\n",
      " 7   Concentration  36847 non-null  float64\n",
      "dtypes: float64(3), int64(5)\n",
      "memory usage: 2.2 MB\n"
     ]
    }
   ],
   "source": [
    "df.info()"
   ]
  },
  {
   "cell_type": "code",
   "execution_count": 44,
   "id": "645ace0e",
   "metadata": {},
   "outputs": [
    {
     "data": {
      "text/html": [
       "<div>\n",
       "<style scoped>\n",
       "    .dataframe tbody tr th:only-of-type {\n",
       "        vertical-align: middle;\n",
       "    }\n",
       "\n",
       "    .dataframe tbody tr th {\n",
       "        vertical-align: top;\n",
       "    }\n",
       "\n",
       "    .dataframe thead th {\n",
       "        text-align: right;\n",
       "    }\n",
       "</style>\n",
       "<table border=\"1\" class=\"dataframe\">\n",
       "  <thead>\n",
       "    <tr style=\"text-align: right;\">\n",
       "      <th></th>\n",
       "      <th>Year</th>\n",
       "      <th>Month</th>\n",
       "      <th>Day</th>\n",
       "      <th>Hour</th>\n",
       "      <th>BuoyID</th>\n",
       "      <th>Lat</th>\n",
       "      <th>Lon</th>\n",
       "      <th>Concentration</th>\n",
       "    </tr>\n",
       "  </thead>\n",
       "  <tbody>\n",
       "    <tr>\n",
       "      <th>0</th>\n",
       "      <td>2006</td>\n",
       "      <td>2</td>\n",
       "      <td>2</td>\n",
       "      <td>0</td>\n",
       "      <td>1907</td>\n",
       "      <td>81.979</td>\n",
       "      <td>-127.722</td>\n",
       "      <td>0.99513</td>\n",
       "    </tr>\n",
       "    <tr>\n",
       "      <th>1</th>\n",
       "      <td>2006</td>\n",
       "      <td>2</td>\n",
       "      <td>2</td>\n",
       "      <td>0</td>\n",
       "      <td>2415</td>\n",
       "      <td>77.022</td>\n",
       "      <td>-140.799</td>\n",
       "      <td>0.99703</td>\n",
       "    </tr>\n",
       "    <tr>\n",
       "      <th>2</th>\n",
       "      <td>2006</td>\n",
       "      <td>2</td>\n",
       "      <td>2</td>\n",
       "      <td>0</td>\n",
       "      <td>2416</td>\n",
       "      <td>73.552</td>\n",
       "      <td>-140.754</td>\n",
       "      <td>0.99617</td>\n",
       "    </tr>\n",
       "    <tr>\n",
       "      <th>3</th>\n",
       "      <td>2006</td>\n",
       "      <td>2</td>\n",
       "      <td>2</td>\n",
       "      <td>0</td>\n",
       "      <td>2417</td>\n",
       "      <td>75.104</td>\n",
       "      <td>-141.579</td>\n",
       "      <td>0.99637</td>\n",
       "    </tr>\n",
       "    <tr>\n",
       "      <th>4</th>\n",
       "      <td>2006</td>\n",
       "      <td>2</td>\n",
       "      <td>2</td>\n",
       "      <td>0</td>\n",
       "      <td>2419</td>\n",
       "      <td>75.817</td>\n",
       "      <td>-146.290</td>\n",
       "      <td>0.99603</td>\n",
       "    </tr>\n",
       "  </tbody>\n",
       "</table>\n",
       "</div>"
      ],
      "text/plain": [
       "   Year  Month  Day  Hour  BuoyID     Lat      Lon  Concentration\n",
       "0  2006      2    2     0    1907  81.979 -127.722        0.99513\n",
       "1  2006      2    2     0    2415  77.022 -140.799        0.99703\n",
       "2  2006      2    2     0    2416  73.552 -140.754        0.99617\n",
       "3  2006      2    2     0    2417  75.104 -141.579        0.99637\n",
       "4  2006      2    2     0    2419  75.817 -146.290        0.99603"
      ]
     },
     "execution_count": 44,
     "metadata": {},
     "output_type": "execute_result"
    }
   ],
   "source": [
    "df.head()"
   ]
  },
  {
   "cell_type": "code",
   "execution_count": 46,
   "id": "fb09c0a0",
   "metadata": {},
   "outputs": [],
   "source": [
    "drifters_position = df[[\"BuoyID\",\"Lat\",\"Lon\"]]"
   ]
  },
  {
   "cell_type": "code",
   "execution_count": 47,
   "id": "e06a587a",
   "metadata": {},
   "outputs": [
    {
     "data": {
      "text/html": [
       "<div>\n",
       "<style scoped>\n",
       "    .dataframe tbody tr th:only-of-type {\n",
       "        vertical-align: middle;\n",
       "    }\n",
       "\n",
       "    .dataframe tbody tr th {\n",
       "        vertical-align: top;\n",
       "    }\n",
       "\n",
       "    .dataframe thead th {\n",
       "        text-align: right;\n",
       "    }\n",
       "</style>\n",
       "<table border=\"1\" class=\"dataframe\">\n",
       "  <thead>\n",
       "    <tr style=\"text-align: right;\">\n",
       "      <th></th>\n",
       "      <th>BuoyID</th>\n",
       "      <th>Lat</th>\n",
       "      <th>Lon</th>\n",
       "    </tr>\n",
       "  </thead>\n",
       "  <tbody>\n",
       "    <tr>\n",
       "      <th>0</th>\n",
       "      <td>1907</td>\n",
       "      <td>81.97900</td>\n",
       "      <td>-127.72200</td>\n",
       "    </tr>\n",
       "    <tr>\n",
       "      <th>1</th>\n",
       "      <td>2415</td>\n",
       "      <td>77.02200</td>\n",
       "      <td>-140.79900</td>\n",
       "    </tr>\n",
       "    <tr>\n",
       "      <th>2</th>\n",
       "      <td>2416</td>\n",
       "      <td>73.55200</td>\n",
       "      <td>-140.75400</td>\n",
       "    </tr>\n",
       "    <tr>\n",
       "      <th>3</th>\n",
       "      <td>2417</td>\n",
       "      <td>75.10400</td>\n",
       "      <td>-141.57900</td>\n",
       "    </tr>\n",
       "    <tr>\n",
       "      <th>4</th>\n",
       "      <td>2419</td>\n",
       "      <td>75.81700</td>\n",
       "      <td>-146.29000</td>\n",
       "    </tr>\n",
       "    <tr>\n",
       "      <th>...</th>\n",
       "      <td>...</td>\n",
       "      <td>...</td>\n",
       "      <td>...</td>\n",
       "    </tr>\n",
       "    <tr>\n",
       "      <th>36842</th>\n",
       "      <td>66301</td>\n",
       "      <td>81.20271</td>\n",
       "      <td>177.01060</td>\n",
       "    </tr>\n",
       "    <tr>\n",
       "      <th>36843</th>\n",
       "      <td>66304</td>\n",
       "      <td>82.58747</td>\n",
       "      <td>-164.23575</td>\n",
       "    </tr>\n",
       "    <tr>\n",
       "      <th>36844</th>\n",
       "      <td>66305</td>\n",
       "      <td>83.91347</td>\n",
       "      <td>-143.25982</td>\n",
       "    </tr>\n",
       "    <tr>\n",
       "      <th>36845</th>\n",
       "      <td>66739</td>\n",
       "      <td>83.97900</td>\n",
       "      <td>178.04142</td>\n",
       "    </tr>\n",
       "    <tr>\n",
       "      <th>36846</th>\n",
       "      <td>66740</td>\n",
       "      <td>85.76294</td>\n",
       "      <td>-159.50233</td>\n",
       "    </tr>\n",
       "  </tbody>\n",
       "</table>\n",
       "<p>36847 rows × 3 columns</p>\n",
       "</div>"
      ],
      "text/plain": [
       "       BuoyID       Lat        Lon\n",
       "0        1907  81.97900 -127.72200\n",
       "1        2415  77.02200 -140.79900\n",
       "2        2416  73.55200 -140.75400\n",
       "3        2417  75.10400 -141.57900\n",
       "4        2419  75.81700 -146.29000\n",
       "...       ...       ...        ...\n",
       "36842   66301  81.20271  177.01060\n",
       "36843   66304  82.58747 -164.23575\n",
       "36844   66305  83.91347 -143.25982\n",
       "36845   66739  83.97900  178.04142\n",
       "36846   66740  85.76294 -159.50233\n",
       "\n",
       "[36847 rows x 3 columns]"
      ]
     },
     "execution_count": 47,
     "metadata": {},
     "output_type": "execute_result"
    }
   ],
   "source": [
    "drifters_position"
   ]
  },
  {
   "cell_type": "code",
   "execution_count": 51,
   "id": "b13b91ac",
   "metadata": {},
   "outputs": [
    {
     "name": "stdout",
     "output_type": "stream",
     "text": [
      "36847 60\n"
     ]
    }
   ],
   "source": [
    "list_buoys = df['BuoyID'].tolist()\n",
    "list_red = list(dict.fromkeys(list_buoys))\n",
    "print(len(list_buoys),len(list_red))"
   ]
  },
  {
   "cell_type": "code",
   "execution_count": 53,
   "id": "099646af",
   "metadata": {},
   "outputs": [
    {
     "name": "stdout",
     "output_type": "stream",
     "text": [
      "1907\n"
     ]
    }
   ],
   "source": [
    "print(list_red[0])"
   ]
  },
  {
   "cell_type": "code",
   "execution_count": 56,
   "id": "65f8c614",
   "metadata": {},
   "outputs": [],
   "source": [
    "pos_buoy1=drifters_position.loc[drifters_position['BuoyID'] == list_red[0]]"
   ]
  },
  {
   "cell_type": "code",
   "execution_count": 57,
   "id": "2c915b9c",
   "metadata": {},
   "outputs": [
    {
     "data": {
      "text/html": [
       "<div>\n",
       "<style scoped>\n",
       "    .dataframe tbody tr th:only-of-type {\n",
       "        vertical-align: middle;\n",
       "    }\n",
       "\n",
       "    .dataframe tbody tr th {\n",
       "        vertical-align: top;\n",
       "    }\n",
       "\n",
       "    .dataframe thead th {\n",
       "        text-align: right;\n",
       "    }\n",
       "</style>\n",
       "<table border=\"1\" class=\"dataframe\">\n",
       "  <thead>\n",
       "    <tr style=\"text-align: right;\">\n",
       "      <th></th>\n",
       "      <th>BuoyID</th>\n",
       "      <th>Lat</th>\n",
       "      <th>Lon</th>\n",
       "    </tr>\n",
       "  </thead>\n",
       "  <tbody>\n",
       "    <tr>\n",
       "      <th>0</th>\n",
       "      <td>1907</td>\n",
       "      <td>81.97900</td>\n",
       "      <td>-127.72200</td>\n",
       "    </tr>\n",
       "    <tr>\n",
       "      <th>22</th>\n",
       "      <td>1907</td>\n",
       "      <td>81.97922</td>\n",
       "      <td>-127.72787</td>\n",
       "    </tr>\n",
       "    <tr>\n",
       "      <th>44</th>\n",
       "      <td>1907</td>\n",
       "      <td>81.97913</td>\n",
       "      <td>-127.72976</td>\n",
       "    </tr>\n",
       "    <tr>\n",
       "      <th>66</th>\n",
       "      <td>1907</td>\n",
       "      <td>81.97907</td>\n",
       "      <td>-127.73086</td>\n",
       "    </tr>\n",
       "    <tr>\n",
       "      <th>88</th>\n",
       "      <td>1907</td>\n",
       "      <td>81.97907</td>\n",
       "      <td>-127.73033</td>\n",
       "    </tr>\n",
       "    <tr>\n",
       "      <th>...</th>\n",
       "      <td>...</td>\n",
       "      <td>...</td>\n",
       "      <td>...</td>\n",
       "    </tr>\n",
       "    <tr>\n",
       "      <th>23449</th>\n",
       "      <td>1907</td>\n",
       "      <td>82.29626</td>\n",
       "      <td>-116.84971</td>\n",
       "    </tr>\n",
       "    <tr>\n",
       "      <th>23490</th>\n",
       "      <td>1907</td>\n",
       "      <td>82.29280</td>\n",
       "      <td>-116.86027</td>\n",
       "    </tr>\n",
       "    <tr>\n",
       "      <th>23531</th>\n",
       "      <td>1907</td>\n",
       "      <td>82.29123</td>\n",
       "      <td>-116.86103</td>\n",
       "    </tr>\n",
       "    <tr>\n",
       "      <th>23572</th>\n",
       "      <td>1907</td>\n",
       "      <td>82.29063</td>\n",
       "      <td>-116.85687</td>\n",
       "    </tr>\n",
       "    <tr>\n",
       "      <th>23614</th>\n",
       "      <td>1907</td>\n",
       "      <td>82.29085</td>\n",
       "      <td>-116.85103</td>\n",
       "    </tr>\n",
       "  </tbody>\n",
       "</table>\n",
       "<p>628 rows × 3 columns</p>\n",
       "</div>"
      ],
      "text/plain": [
       "       BuoyID       Lat        Lon\n",
       "0        1907  81.97900 -127.72200\n",
       "22       1907  81.97922 -127.72787\n",
       "44       1907  81.97913 -127.72976\n",
       "66       1907  81.97907 -127.73086\n",
       "88       1907  81.97907 -127.73033\n",
       "...       ...       ...        ...\n",
       "23449    1907  82.29626 -116.84971\n",
       "23490    1907  82.29280 -116.86027\n",
       "23531    1907  82.29123 -116.86103\n",
       "23572    1907  82.29063 -116.85687\n",
       "23614    1907  82.29085 -116.85103\n",
       "\n",
       "[628 rows x 3 columns]"
      ]
     },
     "execution_count": 57,
     "metadata": {},
     "output_type": "execute_result"
    }
   ],
   "source": [
    "pos_buoy1"
   ]
  },
  {
   "cell_type": "code",
   "execution_count": 59,
   "id": "df00633e",
   "metadata": {},
   "outputs": [
    {
     "ename": "AttributeError",
     "evalue": "Unknown attribute mapping",
     "output_type": "error",
     "traceback": [
      "\u001b[0;31m---------------------------------------------------------------------------\u001b[0m",
      "\u001b[0;31mAttributeError\u001b[0m                            Traceback (most recent call last)",
      "Input \u001b[0;32mIn [59]\u001b[0m, in \u001b[0;36m<cell line: 4>\u001b[0;34m()\u001b[0m\n\u001b[1;32m      2\u001b[0m X \u001b[38;5;241m=\u001b[39m np\u001b[38;5;241m.\u001b[39mnan\u001b[38;5;241m*\u001b[39mnp\u001b[38;5;241m.\u001b[39mones(shape\u001b[38;5;241m=\u001b[39mshp)\n\u001b[1;32m      3\u001b[0m Y \u001b[38;5;241m=\u001b[39m np\u001b[38;5;241m.\u001b[39mnan\u001b[38;5;241m*\u001b[39mnp\u001b[38;5;241m.\u001b[39mones(shape\u001b[38;5;241m=\u001b[39mshp)\n\u001b[0;32m----> 4\u001b[0m X,Y\u001b[38;5;241m=\u001b[39m\u001b[43mmesh\u001b[49m\u001b[38;5;241;43m.\u001b[39;49m\u001b[43mmapping\u001b[49m(pos_buoy1[\u001b[38;5;124m'\u001b[39m\u001b[38;5;124mLon\u001b[39m\u001b[38;5;124m'\u001b[39m]\u001b[38;5;241m.\u001b[39mshape,pos_buoy1[\u001b[38;5;124m'\u001b[39m\u001b[38;5;124mLat\u001b[39m\u001b[38;5;124m'\u001b[39m]\u001b[38;5;241m.\u001b[39mshape)\n",
      "File \u001b[0;32m/bettik/alberta/n/nextsim-tools/python/pynextsim/nextsim_mesh_base.py:55\u001b[0m, in \u001b[0;36mNextsimMeshBase.__getattr__\u001b[0;34m(self, name)\u001b[0m\n\u001b[1;32m     53\u001b[0m     \u001b[38;5;28;01mreturn\u001b[39;00m \u001b[38;5;28mself\u001b[39m\u001b[38;5;241m.\u001b[39mgeom_info[name]\n\u001b[1;32m     54\u001b[0m \u001b[38;5;28;01melse\u001b[39;00m:\n\u001b[0;32m---> 55\u001b[0m     \u001b[38;5;28;01mraise\u001b[39;00m \u001b[38;5;167;01mAttributeError\u001b[39;00m(\u001b[38;5;124mf\u001b[39m\u001b[38;5;124m'\u001b[39m\u001b[38;5;124mUnknown attribute \u001b[39m\u001b[38;5;132;01m{\u001b[39;00mname\u001b[38;5;132;01m}\u001b[39;00m\u001b[38;5;124m'\u001b[39m)\n",
      "\u001b[0;31mAttributeError\u001b[0m: Unknown attribute mapping"
     ]
    }
   ],
   "source": [
    "shp = pos_buoy1['Lon'].shape\n",
    "X = np.nan*np.ones(shape=shp)\n",
    "Y = np.nan*np.ones(shape=shp)\n",
    "X,Y=mesh.mapping(pos_buoy1['Lon'].shape,pos_buoy1['Lat'].shape)"
   ]
  },
  {
   "cell_type": "code",
   "execution_count": 62,
   "id": "62ce4f45",
   "metadata": {},
   "outputs": [],
   "source": [
    "experiment2='run2_330d_partnodisk'\n",
    "mesh_file2='/bettik/alberta/small-arctic-10km-sidfex/experiments/'+experiment2+'/mesh_final.bin'\n",
    "mesh2 = NextsimMesh(mesh_file2)"
   ]
  },
  {
   "cell_type": "code",
   "execution_count": 64,
   "id": "091374c3",
   "metadata": {},
   "outputs": [
    {
     "ename": "AttributeError",
     "evalue": "Unknown attribute mapping",
     "output_type": "error",
     "traceback": [
      "\u001b[0;31m---------------------------------------------------------------------------\u001b[0m",
      "\u001b[0;31mAttributeError\u001b[0m                            Traceback (most recent call last)",
      "Input \u001b[0;32mIn [64]\u001b[0m, in \u001b[0;36m<cell line: 1>\u001b[0;34m()\u001b[0m\n\u001b[0;32m----> 1\u001b[0m \u001b[43mmesh2\u001b[49m\u001b[38;5;241;43m.\u001b[39;49m\u001b[43mmapping\u001b[49m\n",
      "File \u001b[0;32m/bettik/alberta/n/nextsim-tools/python/pynextsim/nextsim_mesh_base.py:55\u001b[0m, in \u001b[0;36mNextsimMeshBase.__getattr__\u001b[0;34m(self, name)\u001b[0m\n\u001b[1;32m     53\u001b[0m     \u001b[38;5;28;01mreturn\u001b[39;00m \u001b[38;5;28mself\u001b[39m\u001b[38;5;241m.\u001b[39mgeom_info[name]\n\u001b[1;32m     54\u001b[0m \u001b[38;5;28;01melse\u001b[39;00m:\n\u001b[0;32m---> 55\u001b[0m     \u001b[38;5;28;01mraise\u001b[39;00m \u001b[38;5;167;01mAttributeError\u001b[39;00m(\u001b[38;5;124mf\u001b[39m\u001b[38;5;124m'\u001b[39m\u001b[38;5;124mUnknown attribute \u001b[39m\u001b[38;5;132;01m{\u001b[39;00mname\u001b[38;5;132;01m}\u001b[39;00m\u001b[38;5;124m'\u001b[39m)\n",
      "\u001b[0;31mAttributeError\u001b[0m: Unknown attribute mapping"
     ]
    }
   ],
   "source": [
    "mesh2.mapping"
   ]
  },
  {
   "cell_type": "code",
   "execution_count": null,
   "id": "23400dae",
   "metadata": {},
   "outputs": [],
   "source": []
  }
 ],
 "metadata": {
  "kernelspec": {
   "display_name": "Python 3 (ipykernel)",
   "language": "python",
   "name": "python3"
  },
  "language_info": {
   "codemirror_mode": {
    "name": "ipython",
    "version": 3
   },
   "file_extension": ".py",
   "mimetype": "text/x-python",
   "name": "python",
   "nbconvert_exporter": "python",
   "pygments_lexer": "ipython3",
   "version": "3.10.5"
  }
 },
 "nbformat": 4,
 "nbformat_minor": 5
}
